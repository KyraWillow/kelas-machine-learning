{
 "cells": [
  {
   "cell_type": "markdown",
   "id": "2cabe062-1bf4-42f2-9e82-2693bb7c4335",
   "metadata": {},
   "source": [
    "# Tugas Week 1\n",
    "- Target = site_review_rating\n",
    "- Fitur = [\"site_review_rating\", \"hotel_star_rating\", \"site_review_count\", \"room_count\", \"property_type\", \"city\", \"hotel_facilities\"]"
   ]
  },
  {
   "cell_type": "markdown",
   "id": "e5d2f7f1-a8df-4952-b2ff-e415054eb081",
   "metadata": {},
   "source": [
    "## Model prediksi review rating hotel"
   ]
  },
  {
   "cell_type": "code",
   "execution_count": 282,
   "id": "7cc479e9-ddad-41ea-acd0-730f9c166c92",
   "metadata": {},
   "outputs": [],
   "source": [
    "import pandas as pd"
   ]
  },
  {
   "cell_type": "code",
   "execution_count": 283,
   "id": "3a8b77b7-daf5-42b1-b5e5-4b8eade3f5d0",
   "metadata": {},
   "outputs": [
    {
     "data": {
      "text/plain": [
       "(4000, 36)"
      ]
     },
     "execution_count": 283,
     "metadata": {},
     "output_type": "execute_result"
    }
   ],
   "source": [
    "data = pd.read_csv(\"../data/Week1_Travel.csv\")\n",
    "data.shape"
   ]
  },
  {
   "cell_type": "markdown",
   "id": "d2de56a2-54d4-47f6-8109-b058f7c9980e",
   "metadata": {},
   "source": [
    "### Menentukan fitur yang akan digunakan"
   ]
  },
  {
   "cell_type": "code",
   "execution_count": 330,
   "id": "52080a34-cd0a-4b15-b10f-30617696d383",
   "metadata": {},
   "outputs": [],
   "source": [
    "# Mendefinisikan fitur inti\n",
    "fitur_inti = [\"site_review_rating\", \"hotel_star_rating\", \"site_review_count\", \"room_count\", \"property_type\"]"
   ]
  },
  {
   "cell_type": "code",
   "execution_count": 331,
   "id": "d603300e-db4b-4051-a5c7-2a318040c2be",
   "metadata": {},
   "outputs": [
    {
     "data": {
      "text/html": [
       "<div>\n",
       "<style scoped>\n",
       "    .dataframe tbody tr th:only-of-type {\n",
       "        vertical-align: middle;\n",
       "    }\n",
       "\n",
       "    .dataframe tbody tr th {\n",
       "        vertical-align: top;\n",
       "    }\n",
       "\n",
       "    .dataframe thead th {\n",
       "        text-align: right;\n",
       "    }\n",
       "</style>\n",
       "<table border=\"1\" class=\"dataframe\">\n",
       "  <thead>\n",
       "    <tr style=\"text-align: right;\">\n",
       "      <th></th>\n",
       "      <th>site_review_rating</th>\n",
       "      <th>hotel_star_rating</th>\n",
       "      <th>site_review_count</th>\n",
       "      <th>room_count</th>\n",
       "      <th>property_type</th>\n",
       "    </tr>\n",
       "  </thead>\n",
       "  <tbody>\n",
       "    <tr>\n",
       "      <th>0</th>\n",
       "      <td>4.0</td>\n",
       "      <td>2</td>\n",
       "      <td>87.0</td>\n",
       "      <td>17</td>\n",
       "      <td>Resort</td>\n",
       "    </tr>\n",
       "    <tr>\n",
       "      <th>1</th>\n",
       "      <td>4.5</td>\n",
       "      <td>0</td>\n",
       "      <td>8.0</td>\n",
       "      <td>18</td>\n",
       "      <td>Guest House</td>\n",
       "    </tr>\n",
       "    <tr>\n",
       "      <th>2</th>\n",
       "      <td>2.5</td>\n",
       "      <td>0</td>\n",
       "      <td>2.0</td>\n",
       "      <td>15</td>\n",
       "      <td>Resort</td>\n",
       "    </tr>\n",
       "    <tr>\n",
       "      <th>3</th>\n",
       "      <td>5.0</td>\n",
       "      <td>2</td>\n",
       "      <td>1.0</td>\n",
       "      <td>24</td>\n",
       "      <td>Cottage</td>\n",
       "    </tr>\n",
       "    <tr>\n",
       "      <th>4</th>\n",
       "      <td>2.8</td>\n",
       "      <td>2</td>\n",
       "      <td>121.0</td>\n",
       "      <td>20</td>\n",
       "      <td>Hotel</td>\n",
       "    </tr>\n",
       "  </tbody>\n",
       "</table>\n",
       "</div>"
      ],
      "text/plain": [
       "   site_review_rating  hotel_star_rating  site_review_count  room_count  \\\n",
       "0                 4.0                  2               87.0          17   \n",
       "1                 4.5                  0                8.0          18   \n",
       "2                 2.5                  0                2.0          15   \n",
       "3                 5.0                  2                1.0          24   \n",
       "4                 2.8                  2              121.0          20   \n",
       "\n",
       "  property_type  \n",
       "0        Resort  \n",
       "1   Guest House  \n",
       "2        Resort  \n",
       "3       Cottage  \n",
       "4         Hotel  "
      ]
     },
     "execution_count": 331,
     "metadata": {},
     "output_type": "execute_result"
    }
   ],
   "source": [
    "df = data[fitur_inti]\n",
    "df.head()"
   ]
  },
  {
   "cell_type": "markdown",
   "id": "4dfedf18-9983-487d-abe4-2c2f206057d0",
   "metadata": {},
   "source": [
    "### Melakukan EDA "
   ]
  },
  {
   "cell_type": "code",
   "execution_count": 332,
   "id": "c9920d52-9e2f-4fae-bc5c-bd4a4fa8e7fe",
   "metadata": {},
   "outputs": [
    {
     "data": {
      "text/html": [
       "<div>\n",
       "<style scoped>\n",
       "    .dataframe tbody tr th:only-of-type {\n",
       "        vertical-align: middle;\n",
       "    }\n",
       "\n",
       "    .dataframe tbody tr th {\n",
       "        vertical-align: top;\n",
       "    }\n",
       "\n",
       "    .dataframe thead th {\n",
       "        text-align: right;\n",
       "    }\n",
       "</style>\n",
       "<table border=\"1\" class=\"dataframe\">\n",
       "  <thead>\n",
       "    <tr style=\"text-align: right;\">\n",
       "      <th></th>\n",
       "      <th>site_review_rating</th>\n",
       "      <th>hotel_star_rating</th>\n",
       "      <th>site_review_count</th>\n",
       "      <th>room_count</th>\n",
       "    </tr>\n",
       "  </thead>\n",
       "  <tbody>\n",
       "    <tr>\n",
       "      <th>count</th>\n",
       "      <td>2416.000000</td>\n",
       "      <td>4000.000000</td>\n",
       "      <td>2416.000000</td>\n",
       "      <td>4000.000000</td>\n",
       "    </tr>\n",
       "    <tr>\n",
       "      <th>mean</th>\n",
       "      <td>3.750993</td>\n",
       "      <td>1.306000</td>\n",
       "      <td>47.765728</td>\n",
       "      <td>22.200250</td>\n",
       "    </tr>\n",
       "    <tr>\n",
       "      <th>std</th>\n",
       "      <td>0.842863</td>\n",
       "      <td>1.479159</td>\n",
       "      <td>93.233924</td>\n",
       "      <td>96.132138</td>\n",
       "    </tr>\n",
       "    <tr>\n",
       "      <th>min</th>\n",
       "      <td>0.000000</td>\n",
       "      <td>0.000000</td>\n",
       "      <td>0.000000</td>\n",
       "      <td>0.000000</td>\n",
       "    </tr>\n",
       "    <tr>\n",
       "      <th>25%</th>\n",
       "      <td>3.400000</td>\n",
       "      <td>0.000000</td>\n",
       "      <td>4.000000</td>\n",
       "      <td>7.000000</td>\n",
       "    </tr>\n",
       "    <tr>\n",
       "      <th>50%</th>\n",
       "      <td>3.900000</td>\n",
       "      <td>1.000000</td>\n",
       "      <td>17.000000</td>\n",
       "      <td>14.000000</td>\n",
       "    </tr>\n",
       "    <tr>\n",
       "      <th>75%</th>\n",
       "      <td>4.300000</td>\n",
       "      <td>3.000000</td>\n",
       "      <td>55.000000</td>\n",
       "      <td>26.000000</td>\n",
       "    </tr>\n",
       "    <tr>\n",
       "      <th>max</th>\n",
       "      <td>5.000000</td>\n",
       "      <td>5.000000</td>\n",
       "      <td>2094.000000</td>\n",
       "      <td>5874.000000</td>\n",
       "    </tr>\n",
       "  </tbody>\n",
       "</table>\n",
       "</div>"
      ],
      "text/plain": [
       "       site_review_rating  hotel_star_rating  site_review_count   room_count\n",
       "count         2416.000000        4000.000000        2416.000000  4000.000000\n",
       "mean             3.750993           1.306000          47.765728    22.200250\n",
       "std              0.842863           1.479159          93.233924    96.132138\n",
       "min              0.000000           0.000000           0.000000     0.000000\n",
       "25%              3.400000           0.000000           4.000000     7.000000\n",
       "50%              3.900000           1.000000          17.000000    14.000000\n",
       "75%              4.300000           3.000000          55.000000    26.000000\n",
       "max              5.000000           5.000000        2094.000000  5874.000000"
      ]
     },
     "execution_count": 332,
     "metadata": {},
     "output_type": "execute_result"
    }
   ],
   "source": [
    "df.describe()"
   ]
  },
  {
   "cell_type": "code",
   "execution_count": 333,
   "id": "12810053-8e71-4dd3-baaa-97e62199803f",
   "metadata": {
    "scrolled": true
   },
   "outputs": [
    {
     "data": {
      "text/plain": [
       "np.int64(0)"
      ]
     },
     "execution_count": 333,
     "metadata": {},
     "output_type": "execute_result"
    }
   ],
   "source": [
    "df_bersih = df.dropna(subset=[\"site_review_rating\"])\n",
    "df_bersih = df.dropna()\n",
    "df_bersih[\"site_review_rating\"].isna().sum()"
   ]
  },
  {
   "cell_type": "code",
   "execution_count": 334,
   "id": "9d76bb1b-f656-4081-9887-6ac37b5ac9ff",
   "metadata": {},
   "outputs": [
    {
     "data": {
      "text/plain": [
       "site_review_rating    0\n",
       "hotel_star_rating     0\n",
       "site_review_count     0\n",
       "room_count            0\n",
       "property_type         0\n",
       "dtype: int64"
      ]
     },
     "execution_count": 334,
     "metadata": {},
     "output_type": "execute_result"
    }
   ],
   "source": [
    "df_bersih.isna().sum()"
   ]
  },
  {
   "cell_type": "code",
   "execution_count": 335,
   "id": "52d0ac49-628b-4abe-befd-0be266a28c98",
   "metadata": {},
   "outputs": [
    {
     "data": {
      "text/plain": [
       "site_review_rating    float64\n",
       "hotel_star_rating       int64\n",
       "site_review_count     float64\n",
       "room_count              int64\n",
       "property_type          object\n",
       "dtype: object"
      ]
     },
     "execution_count": 335,
     "metadata": {},
     "output_type": "execute_result"
    }
   ],
   "source": [
    "df_bersih.dtypes"
   ]
  },
  {
   "cell_type": "code",
   "execution_count": 336,
   "id": "37319d6f-3a43-4341-b18f-bd5e2b22413f",
   "metadata": {},
   "outputs": [
    {
     "data": {
      "text/plain": [
       "np.int64(44)"
      ]
     },
     "execution_count": 336,
     "metadata": {},
     "output_type": "execute_result"
    }
   ],
   "source": [
    "df_bersih.duplicated().sum()"
   ]
  },
  {
   "cell_type": "markdown",
   "id": "8b1f7f01-aedc-4fa6-bbcd-d7fe33bb9f03",
   "metadata": {},
   "source": [
    "### Cek distribusi data miring (skewed) dan cek distribusi kategori"
   ]
  },
  {
   "cell_type": "code",
   "execution_count": 337,
   "id": "85f27944-b1b6-4986-ad44-6e6a04803052",
   "metadata": {},
   "outputs": [
    {
     "data": {
      "text/plain": [
       "np.float64(44.740851327912814)"
      ]
     },
     "execution_count": 337,
     "metadata": {},
     "output_type": "execute_result"
    }
   ],
   "source": [
    "df_bersih[\"room_count\"].skew() # Miring ke kanan"
   ]
  },
  {
   "cell_type": "code",
   "execution_count": 338,
   "id": "cdbf2153-1f2a-4abc-adb9-c6bc9adce662",
   "metadata": {},
   "outputs": [
    {
     "data": {
      "text/plain": [
       "np.float64(0.07350529038429585)"
      ]
     },
     "execution_count": 338,
     "metadata": {},
     "output_type": "execute_result"
    }
   ],
   "source": [
    "df_bersih[\"hotel_star_rating\"].skew() # Normal"
   ]
  },
  {
   "cell_type": "code",
   "execution_count": 339,
   "id": "3a6e1b0b-0bf1-4672-9383-b6148bcd15e1",
   "metadata": {},
   "outputs": [
    {
     "data": {
      "text/plain": [
       "np.float64(-1.289586252147197)"
      ]
     },
     "execution_count": 339,
     "metadata": {},
     "output_type": "execute_result"
    }
   ],
   "source": [
    "df_bersih['site_review_rating'].skew() # Miring ke kiri"
   ]
  },
  {
   "cell_type": "code",
   "execution_count": 340,
   "id": "5b26a2c2-6e00-46a8-8642-a081797633cd",
   "metadata": {},
   "outputs": [
    {
     "data": {
      "text/plain": [
       "np.float64(7.789998704307302)"
      ]
     },
     "execution_count": 340,
     "metadata": {},
     "output_type": "execute_result"
    }
   ],
   "source": [
    "df_bersih[\"site_review_count\"].skew() # Miring ke kanan"
   ]
  },
  {
   "cell_type": "code",
   "execution_count": 341,
   "id": "344036af-0327-448d-91fe-dc13072a7657",
   "metadata": {},
   "outputs": [
    {
     "data": {
      "text/plain": [
       "property_type\n",
       "Hotel                1595\n",
       "Resort                360\n",
       "Guest House           122\n",
       "Service Apartment      85\n",
       "Homestay               60\n",
       "Lodge                  52\n",
       "BnB                    34\n",
       "Cottage                29\n",
       "Tent                   20\n",
       "Houseboat              18\n",
       "Villa                  13\n",
       "Bungalow                9\n",
       "Palace                  8\n",
       "Hostel                  6\n",
       "Beach Hut               2\n",
       "Motel                   2\n",
       "Farm Stay               1\n",
       "Name: count, dtype: int64"
      ]
     },
     "execution_count": 341,
     "metadata": {},
     "output_type": "execute_result"
    }
   ],
   "source": [
    "df_bersih[\"property_type\"].value_counts()"
   ]
  },
  {
   "cell_type": "markdown",
   "id": "b7db432c-f864-4198-938d-0be04921b9de",
   "metadata": {},
   "source": [
    "### Membersihkan outlier pada fitur numerik"
   ]
  },
  {
   "cell_type": "code",
   "execution_count": 343,
   "id": "d0039730-e884-44ab-a27d-2012395a1846",
   "metadata": {},
   "outputs": [],
   "source": [
    "num_cols = [\"site_review_rating\", \"hotel_star_rating\", \"site_review_count\", \"room_count\"]"
   ]
  },
  {
   "cell_type": "code",
   "execution_count": 344,
   "id": "d70090c1-01c4-4a9a-8827-484f360b92a1",
   "metadata": {},
   "outputs": [],
   "source": [
    "def remove_outlier(df, column, x):\n",
    "    df_proses = df_bersih.copy()\n",
    "    for col in column:\n",
    "        Q1 = df_proses[col].quantile(0.25)\n",
    "        Q3 = df_proses[col].quantile(0.75)\n",
    "        IQR = Q3 - Q1\n",
    "        lower_bound = Q1 - x * IQR\n",
    "        upper_bound = Q1 + x * IQR\n",
    "        df_proses = df_proses[(df_proses[col] >= lower_bound) & (df_proses[col] <= upper_bound)]\n",
    "    return df_proses"
   ]
  },
  {
   "cell_type": "code",
   "execution_count": 345,
   "id": "93f4b853-d0d3-43cd-9618-85bb5ea82fd9",
   "metadata": {},
   "outputs": [
    {
     "data": {
      "text/html": [
       "<div>\n",
       "<style scoped>\n",
       "    .dataframe tbody tr th:only-of-type {\n",
       "        vertical-align: middle;\n",
       "    }\n",
       "\n",
       "    .dataframe tbody tr th {\n",
       "        vertical-align: top;\n",
       "    }\n",
       "\n",
       "    .dataframe thead th {\n",
       "        text-align: right;\n",
       "    }\n",
       "</style>\n",
       "<table border=\"1\" class=\"dataframe\">\n",
       "  <thead>\n",
       "    <tr style=\"text-align: right;\">\n",
       "      <th></th>\n",
       "      <th>site_review_rating</th>\n",
       "      <th>hotel_star_rating</th>\n",
       "      <th>site_review_count</th>\n",
       "      <th>room_count</th>\n",
       "      <th>property_type</th>\n",
       "    </tr>\n",
       "  </thead>\n",
       "  <tbody>\n",
       "    <tr>\n",
       "      <th>0</th>\n",
       "      <td>4.0</td>\n",
       "      <td>2</td>\n",
       "      <td>87.0</td>\n",
       "      <td>17</td>\n",
       "      <td>Resort</td>\n",
       "    </tr>\n",
       "    <tr>\n",
       "      <th>1</th>\n",
       "      <td>4.5</td>\n",
       "      <td>0</td>\n",
       "      <td>8.0</td>\n",
       "      <td>18</td>\n",
       "      <td>Guest House</td>\n",
       "    </tr>\n",
       "    <tr>\n",
       "      <th>2</th>\n",
       "      <td>2.5</td>\n",
       "      <td>0</td>\n",
       "      <td>2.0</td>\n",
       "      <td>15</td>\n",
       "      <td>Resort</td>\n",
       "    </tr>\n",
       "    <tr>\n",
       "      <th>5</th>\n",
       "      <td>3.9</td>\n",
       "      <td>3</td>\n",
       "      <td>16.0</td>\n",
       "      <td>15</td>\n",
       "      <td>Resort</td>\n",
       "    </tr>\n",
       "    <tr>\n",
       "      <th>8</th>\n",
       "      <td>3.0</td>\n",
       "      <td>1</td>\n",
       "      <td>1.0</td>\n",
       "      <td>2</td>\n",
       "      <td>Homestay</td>\n",
       "    </tr>\n",
       "  </tbody>\n",
       "</table>\n",
       "</div>"
      ],
      "text/plain": [
       "   site_review_rating  hotel_star_rating  site_review_count  room_count  \\\n",
       "0                 4.0                  2               87.0          17   \n",
       "1                 4.5                  0                8.0          18   \n",
       "2                 2.5                  0                2.0          15   \n",
       "5                 3.9                  3               16.0          15   \n",
       "8                 3.0                  1                1.0           2   \n",
       "\n",
       "  property_type  \n",
       "0        Resort  \n",
       "1   Guest House  \n",
       "2        Resort  \n",
       "5        Resort  \n",
       "8      Homestay  "
      ]
     },
     "execution_count": 345,
     "metadata": {},
     "output_type": "execute_result"
    }
   ],
   "source": [
    "df_no_outlier = remove_outlier(df_bersih, num_cols, 1.5)\n",
    "df_no_outlier.head()"
   ]
  },
  {
   "cell_type": "markdown",
   "id": "8208a2e7-7dc2-4612-9d11-dd6e989a3de0",
   "metadata": {},
   "source": [
    "### Normalisasi data menggunakan StandardScaler( )"
   ]
  },
  {
   "cell_type": "code",
   "execution_count": 346,
   "id": "5cb14791-cfc5-4753-a40c-da5186eb7cb4",
   "metadata": {},
   "outputs": [],
   "source": [
    "from sklearn.preprocessing import StandardScaler"
   ]
  },
  {
   "cell_type": "code",
   "execution_count": 347,
   "id": "a2c9572b-7d55-4c46-9c40-d74b0e395c10",
   "metadata": {},
   "outputs": [],
   "source": [
    "std_scaler = StandardScaler()"
   ]
  },
  {
   "cell_type": "code",
   "execution_count": 348,
   "id": "4a81ece3-46af-4469-95f1-75f23e87eda9",
   "metadata": {},
   "outputs": [],
   "source": [
    "df_std_scaled = df_no_outlier.copy()\n",
    "df_std_scaled[num_cols] = std_scaler.fit_transform(df_no_outlier[num_cols])"
   ]
  },
  {
   "cell_type": "code",
   "execution_count": 349,
   "id": "cbf29714-b58f-429a-b886-6634f89217a0",
   "metadata": {
    "scrolled": true
   },
   "outputs": [
    {
     "data": {
      "text/html": [
       "<div>\n",
       "<style scoped>\n",
       "    .dataframe tbody tr th:only-of-type {\n",
       "        vertical-align: middle;\n",
       "    }\n",
       "\n",
       "    .dataframe tbody tr th {\n",
       "        vertical-align: top;\n",
       "    }\n",
       "\n",
       "    .dataframe thead th {\n",
       "        text-align: right;\n",
       "    }\n",
       "</style>\n",
       "<table border=\"1\" class=\"dataframe\">\n",
       "  <thead>\n",
       "    <tr style=\"text-align: right;\">\n",
       "      <th></th>\n",
       "      <th>site_review_rating</th>\n",
       "      <th>hotel_star_rating</th>\n",
       "      <th>site_review_count</th>\n",
       "      <th>room_count</th>\n",
       "      <th>property_type</th>\n",
       "    </tr>\n",
       "  </thead>\n",
       "  <tbody>\n",
       "    <tr>\n",
       "      <th>0</th>\n",
       "      <td>0.419535</td>\n",
       "      <td>0.314092</td>\n",
       "      <td>2.874234</td>\n",
       "      <td>-0.020211</td>\n",
       "      <td>Resort</td>\n",
       "    </tr>\n",
       "    <tr>\n",
       "      <th>1</th>\n",
       "      <td>1.261818</td>\n",
       "      <td>-1.124558</td>\n",
       "      <td>-0.626256</td>\n",
       "      <td>0.082100</td>\n",
       "      <td>Guest House</td>\n",
       "    </tr>\n",
       "    <tr>\n",
       "      <th>2</th>\n",
       "      <td>-2.107315</td>\n",
       "      <td>-1.124558</td>\n",
       "      <td>-0.892116</td>\n",
       "      <td>-0.224834</td>\n",
       "      <td>Resort</td>\n",
       "    </tr>\n",
       "    <tr>\n",
       "      <th>5</th>\n",
       "      <td>0.251078</td>\n",
       "      <td>1.033417</td>\n",
       "      <td>-0.271776</td>\n",
       "      <td>-0.224834</td>\n",
       "      <td>Resort</td>\n",
       "    </tr>\n",
       "    <tr>\n",
       "      <th>8</th>\n",
       "      <td>-1.265031</td>\n",
       "      <td>-0.405233</td>\n",
       "      <td>-0.936426</td>\n",
       "      <td>-1.554878</td>\n",
       "      <td>Homestay</td>\n",
       "    </tr>\n",
       "  </tbody>\n",
       "</table>\n",
       "</div>"
      ],
      "text/plain": [
       "   site_review_rating  hotel_star_rating  site_review_count  room_count  \\\n",
       "0            0.419535           0.314092           2.874234   -0.020211   \n",
       "1            1.261818          -1.124558          -0.626256    0.082100   \n",
       "2           -2.107315          -1.124558          -0.892116   -0.224834   \n",
       "5            0.251078           1.033417          -0.271776   -0.224834   \n",
       "8           -1.265031          -0.405233          -0.936426   -1.554878   \n",
       "\n",
       "  property_type  \n",
       "0        Resort  \n",
       "1   Guest House  \n",
       "2        Resort  \n",
       "5        Resort  \n",
       "8      Homestay  "
      ]
     },
     "execution_count": 349,
     "metadata": {},
     "output_type": "execute_result"
    }
   ],
   "source": [
    "df_std_scaled.head()"
   ]
  },
  {
   "cell_type": "code",
   "execution_count": 350,
   "id": "634656ac-2020-471e-8200-e9f65e7710d2",
   "metadata": {},
   "outputs": [
    {
     "data": {
      "text/html": [
       "<div>\n",
       "<style scoped>\n",
       "    .dataframe tbody tr th:only-of-type {\n",
       "        vertical-align: middle;\n",
       "    }\n",
       "\n",
       "    .dataframe tbody tr th {\n",
       "        vertical-align: top;\n",
       "    }\n",
       "\n",
       "    .dataframe thead th {\n",
       "        text-align: right;\n",
       "    }\n",
       "</style>\n",
       "<table border=\"1\" class=\"dataframe\">\n",
       "  <thead>\n",
       "    <tr style=\"text-align: right;\">\n",
       "      <th></th>\n",
       "      <th>site_review_rating</th>\n",
       "      <th>hotel_star_rating</th>\n",
       "      <th>site_review_count</th>\n",
       "      <th>room_count</th>\n",
       "      <th>property_type</th>\n",
       "    </tr>\n",
       "  </thead>\n",
       "  <tbody>\n",
       "    <tr>\n",
       "      <th>848</th>\n",
       "      <td>0.419535</td>\n",
       "      <td>-0.405233</td>\n",
       "      <td>-0.759186</td>\n",
       "      <td>1.923700</td>\n",
       "      <td>Resort</td>\n",
       "    </tr>\n",
       "    <tr>\n",
       "      <th>2696</th>\n",
       "      <td>-0.591205</td>\n",
       "      <td>1.033417</td>\n",
       "      <td>-0.227466</td>\n",
       "      <td>0.900589</td>\n",
       "      <td>Resort</td>\n",
       "    </tr>\n",
       "    <tr>\n",
       "      <th>2724</th>\n",
       "      <td>1.430275</td>\n",
       "      <td>-1.124558</td>\n",
       "      <td>0.082704</td>\n",
       "      <td>-0.327145</td>\n",
       "      <td>Resort</td>\n",
       "    </tr>\n",
       "    <tr>\n",
       "      <th>2819</th>\n",
       "      <td>0.756448</td>\n",
       "      <td>1.033417</td>\n",
       "      <td>2.032344</td>\n",
       "      <td>-0.020211</td>\n",
       "      <td>Hotel</td>\n",
       "    </tr>\n",
       "    <tr>\n",
       "      <th>1750</th>\n",
       "      <td>-1.433488</td>\n",
       "      <td>-1.124558</td>\n",
       "      <td>-0.847806</td>\n",
       "      <td>0.286722</td>\n",
       "      <td>Guest House</td>\n",
       "    </tr>\n",
       "    <tr>\n",
       "      <th>1415</th>\n",
       "      <td>0.082622</td>\n",
       "      <td>0.314092</td>\n",
       "      <td>0.127014</td>\n",
       "      <td>0.798278</td>\n",
       "      <td>Resort</td>\n",
       "    </tr>\n",
       "    <tr>\n",
       "      <th>2443</th>\n",
       "      <td>0.082622</td>\n",
       "      <td>0.314092</td>\n",
       "      <td>-0.537636</td>\n",
       "      <td>1.002900</td>\n",
       "      <td>Hotel</td>\n",
       "    </tr>\n",
       "    <tr>\n",
       "      <th>1501</th>\n",
       "      <td>-0.085835</td>\n",
       "      <td>-1.124558</td>\n",
       "      <td>0.525804</td>\n",
       "      <td>0.695967</td>\n",
       "      <td>Guest House</td>\n",
       "    </tr>\n",
       "    <tr>\n",
       "      <th>2824</th>\n",
       "      <td>0.587992</td>\n",
       "      <td>1.033417</td>\n",
       "      <td>1.810794</td>\n",
       "      <td>0.798278</td>\n",
       "      <td>Hotel</td>\n",
       "    </tr>\n",
       "    <tr>\n",
       "      <th>1356</th>\n",
       "      <td>-0.085835</td>\n",
       "      <td>-1.124558</td>\n",
       "      <td>-0.847806</td>\n",
       "      <td>-0.634078</td>\n",
       "      <td>Guest House</td>\n",
       "    </tr>\n",
       "  </tbody>\n",
       "</table>\n",
       "</div>"
      ],
      "text/plain": [
       "      site_review_rating  hotel_star_rating  site_review_count  room_count  \\\n",
       "848             0.419535          -0.405233          -0.759186    1.923700   \n",
       "2696           -0.591205           1.033417          -0.227466    0.900589   \n",
       "2724            1.430275          -1.124558           0.082704   -0.327145   \n",
       "2819            0.756448           1.033417           2.032344   -0.020211   \n",
       "1750           -1.433488          -1.124558          -0.847806    0.286722   \n",
       "1415            0.082622           0.314092           0.127014    0.798278   \n",
       "2443            0.082622           0.314092          -0.537636    1.002900   \n",
       "1501           -0.085835          -1.124558           0.525804    0.695967   \n",
       "2824            0.587992           1.033417           1.810794    0.798278   \n",
       "1356           -0.085835          -1.124558          -0.847806   -0.634078   \n",
       "\n",
       "     property_type  \n",
       "848         Resort  \n",
       "2696        Resort  \n",
       "2724        Resort  \n",
       "2819         Hotel  \n",
       "1750   Guest House  \n",
       "1415        Resort  \n",
       "2443         Hotel  \n",
       "1501   Guest House  \n",
       "2824         Hotel  \n",
       "1356   Guest House  "
      ]
     },
     "execution_count": 350,
     "metadata": {},
     "output_type": "execute_result"
    }
   ],
   "source": [
    "df_std_scaled.sample(10)"
   ]
  },
  {
   "cell_type": "code",
   "execution_count": 359,
   "id": "235effb0-3735-4ea0-83e5-3a0d0892a94f",
   "metadata": {},
   "outputs": [],
   "source": [
    "df_std_scaled.to_csv(\"procesed_data.csv\", index=False)"
   ]
  },
  {
   "cell_type": "code",
   "execution_count": 360,
   "id": "16d71bc8-a787-43ab-b375-05693378e347",
   "metadata": {},
   "outputs": [
    {
     "data": {
      "text/html": [
       "<div>\n",
       "<style scoped>\n",
       "    .dataframe tbody tr th:only-of-type {\n",
       "        vertical-align: middle;\n",
       "    }\n",
       "\n",
       "    .dataframe tbody tr th {\n",
       "        vertical-align: top;\n",
       "    }\n",
       "\n",
       "    .dataframe thead th {\n",
       "        text-align: right;\n",
       "    }\n",
       "</style>\n",
       "<table border=\"1\" class=\"dataframe\">\n",
       "  <thead>\n",
       "    <tr style=\"text-align: right;\">\n",
       "      <th></th>\n",
       "      <th>site_review_rating</th>\n",
       "      <th>hotel_star_rating</th>\n",
       "      <th>site_review_count</th>\n",
       "      <th>room_count</th>\n",
       "      <th>property_type_Beach Hut</th>\n",
       "      <th>property_type_BnB</th>\n",
       "      <th>property_type_Bungalow</th>\n",
       "      <th>property_type_Cottage</th>\n",
       "      <th>property_type_Guest House</th>\n",
       "      <th>property_type_Homestay</th>\n",
       "      <th>property_type_Hostel</th>\n",
       "      <th>property_type_Hotel</th>\n",
       "      <th>property_type_Houseboat</th>\n",
       "      <th>property_type_Lodge</th>\n",
       "      <th>property_type_Motel</th>\n",
       "      <th>property_type_Palace</th>\n",
       "      <th>property_type_Resort</th>\n",
       "      <th>property_type_Service Apartment</th>\n",
       "      <th>property_type_Tent</th>\n",
       "      <th>property_type_Villa</th>\n",
       "    </tr>\n",
       "  </thead>\n",
       "  <tbody>\n",
       "    <tr>\n",
       "      <th>0</th>\n",
       "      <td>0.419535</td>\n",
       "      <td>0.314092</td>\n",
       "      <td>2.874234</td>\n",
       "      <td>-0.020211</td>\n",
       "      <td>False</td>\n",
       "      <td>False</td>\n",
       "      <td>False</td>\n",
       "      <td>False</td>\n",
       "      <td>False</td>\n",
       "      <td>False</td>\n",
       "      <td>False</td>\n",
       "      <td>False</td>\n",
       "      <td>False</td>\n",
       "      <td>False</td>\n",
       "      <td>False</td>\n",
       "      <td>False</td>\n",
       "      <td>True</td>\n",
       "      <td>False</td>\n",
       "      <td>False</td>\n",
       "      <td>False</td>\n",
       "    </tr>\n",
       "    <tr>\n",
       "      <th>1</th>\n",
       "      <td>1.261818</td>\n",
       "      <td>-1.124558</td>\n",
       "      <td>-0.626256</td>\n",
       "      <td>0.082100</td>\n",
       "      <td>False</td>\n",
       "      <td>False</td>\n",
       "      <td>False</td>\n",
       "      <td>False</td>\n",
       "      <td>True</td>\n",
       "      <td>False</td>\n",
       "      <td>False</td>\n",
       "      <td>False</td>\n",
       "      <td>False</td>\n",
       "      <td>False</td>\n",
       "      <td>False</td>\n",
       "      <td>False</td>\n",
       "      <td>False</td>\n",
       "      <td>False</td>\n",
       "      <td>False</td>\n",
       "      <td>False</td>\n",
       "    </tr>\n",
       "    <tr>\n",
       "      <th>2</th>\n",
       "      <td>-2.107315</td>\n",
       "      <td>-1.124558</td>\n",
       "      <td>-0.892116</td>\n",
       "      <td>-0.224834</td>\n",
       "      <td>False</td>\n",
       "      <td>False</td>\n",
       "      <td>False</td>\n",
       "      <td>False</td>\n",
       "      <td>False</td>\n",
       "      <td>False</td>\n",
       "      <td>False</td>\n",
       "      <td>False</td>\n",
       "      <td>False</td>\n",
       "      <td>False</td>\n",
       "      <td>False</td>\n",
       "      <td>False</td>\n",
       "      <td>True</td>\n",
       "      <td>False</td>\n",
       "      <td>False</td>\n",
       "      <td>False</td>\n",
       "    </tr>\n",
       "    <tr>\n",
       "      <th>5</th>\n",
       "      <td>0.251078</td>\n",
       "      <td>1.033417</td>\n",
       "      <td>-0.271776</td>\n",
       "      <td>-0.224834</td>\n",
       "      <td>False</td>\n",
       "      <td>False</td>\n",
       "      <td>False</td>\n",
       "      <td>False</td>\n",
       "      <td>False</td>\n",
       "      <td>False</td>\n",
       "      <td>False</td>\n",
       "      <td>False</td>\n",
       "      <td>False</td>\n",
       "      <td>False</td>\n",
       "      <td>False</td>\n",
       "      <td>False</td>\n",
       "      <td>True</td>\n",
       "      <td>False</td>\n",
       "      <td>False</td>\n",
       "      <td>False</td>\n",
       "    </tr>\n",
       "    <tr>\n",
       "      <th>8</th>\n",
       "      <td>-1.265031</td>\n",
       "      <td>-0.405233</td>\n",
       "      <td>-0.936426</td>\n",
       "      <td>-1.554878</td>\n",
       "      <td>False</td>\n",
       "      <td>False</td>\n",
       "      <td>False</td>\n",
       "      <td>False</td>\n",
       "      <td>False</td>\n",
       "      <td>True</td>\n",
       "      <td>False</td>\n",
       "      <td>False</td>\n",
       "      <td>False</td>\n",
       "      <td>False</td>\n",
       "      <td>False</td>\n",
       "      <td>False</td>\n",
       "      <td>False</td>\n",
       "      <td>False</td>\n",
       "      <td>False</td>\n",
       "      <td>False</td>\n",
       "    </tr>\n",
       "    <tr>\n",
       "      <th>...</th>\n",
       "      <td>...</td>\n",
       "      <td>...</td>\n",
       "      <td>...</td>\n",
       "      <td>...</td>\n",
       "      <td>...</td>\n",
       "      <td>...</td>\n",
       "      <td>...</td>\n",
       "      <td>...</td>\n",
       "      <td>...</td>\n",
       "      <td>...</td>\n",
       "      <td>...</td>\n",
       "      <td>...</td>\n",
       "      <td>...</td>\n",
       "      <td>...</td>\n",
       "      <td>...</td>\n",
       "      <td>...</td>\n",
       "      <td>...</td>\n",
       "      <td>...</td>\n",
       "      <td>...</td>\n",
       "      <td>...</td>\n",
       "    </tr>\n",
       "    <tr>\n",
       "      <th>3984</th>\n",
       "      <td>0.756448</td>\n",
       "      <td>-1.124558</td>\n",
       "      <td>0.437184</td>\n",
       "      <td>-0.941011</td>\n",
       "      <td>False</td>\n",
       "      <td>False</td>\n",
       "      <td>False</td>\n",
       "      <td>False</td>\n",
       "      <td>False</td>\n",
       "      <td>False</td>\n",
       "      <td>False</td>\n",
       "      <td>True</td>\n",
       "      <td>False</td>\n",
       "      <td>False</td>\n",
       "      <td>False</td>\n",
       "      <td>False</td>\n",
       "      <td>False</td>\n",
       "      <td>False</td>\n",
       "      <td>False</td>\n",
       "      <td>False</td>\n",
       "    </tr>\n",
       "    <tr>\n",
       "      <th>3988</th>\n",
       "      <td>-0.422748</td>\n",
       "      <td>-1.124558</td>\n",
       "      <td>-0.847806</td>\n",
       "      <td>0.286722</td>\n",
       "      <td>False</td>\n",
       "      <td>False</td>\n",
       "      <td>False</td>\n",
       "      <td>False</td>\n",
       "      <td>False</td>\n",
       "      <td>False</td>\n",
       "      <td>False</td>\n",
       "      <td>True</td>\n",
       "      <td>False</td>\n",
       "      <td>False</td>\n",
       "      <td>False</td>\n",
       "      <td>False</td>\n",
       "      <td>False</td>\n",
       "      <td>False</td>\n",
       "      <td>False</td>\n",
       "      <td>False</td>\n",
       "    </tr>\n",
       "    <tr>\n",
       "      <th>3989</th>\n",
       "      <td>1.598732</td>\n",
       "      <td>1.033417</td>\n",
       "      <td>1.146144</td>\n",
       "      <td>1.923700</td>\n",
       "      <td>False</td>\n",
       "      <td>False</td>\n",
       "      <td>False</td>\n",
       "      <td>False</td>\n",
       "      <td>False</td>\n",
       "      <td>False</td>\n",
       "      <td>False</td>\n",
       "      <td>True</td>\n",
       "      <td>False</td>\n",
       "      <td>False</td>\n",
       "      <td>False</td>\n",
       "      <td>False</td>\n",
       "      <td>False</td>\n",
       "      <td>False</td>\n",
       "      <td>False</td>\n",
       "      <td>False</td>\n",
       "    </tr>\n",
       "    <tr>\n",
       "      <th>3990</th>\n",
       "      <td>-1.265031</td>\n",
       "      <td>-1.124558</td>\n",
       "      <td>-0.892116</td>\n",
       "      <td>-1.145634</td>\n",
       "      <td>False</td>\n",
       "      <td>False</td>\n",
       "      <td>False</td>\n",
       "      <td>False</td>\n",
       "      <td>True</td>\n",
       "      <td>False</td>\n",
       "      <td>False</td>\n",
       "      <td>False</td>\n",
       "      <td>False</td>\n",
       "      <td>False</td>\n",
       "      <td>False</td>\n",
       "      <td>False</td>\n",
       "      <td>False</td>\n",
       "      <td>False</td>\n",
       "      <td>False</td>\n",
       "      <td>False</td>\n",
       "    </tr>\n",
       "    <tr>\n",
       "      <th>3999</th>\n",
       "      <td>0.924905</td>\n",
       "      <td>0.314092</td>\n",
       "      <td>-0.892116</td>\n",
       "      <td>-0.941011</td>\n",
       "      <td>False</td>\n",
       "      <td>False</td>\n",
       "      <td>False</td>\n",
       "      <td>False</td>\n",
       "      <td>False</td>\n",
       "      <td>False</td>\n",
       "      <td>False</td>\n",
       "      <td>True</td>\n",
       "      <td>False</td>\n",
       "      <td>False</td>\n",
       "      <td>False</td>\n",
       "      <td>False</td>\n",
       "      <td>False</td>\n",
       "      <td>False</td>\n",
       "      <td>False</td>\n",
       "      <td>False</td>\n",
       "    </tr>\n",
       "  </tbody>\n",
       "</table>\n",
       "<p>1468 rows × 20 columns</p>\n",
       "</div>"
      ],
      "text/plain": [
       "      site_review_rating  hotel_star_rating  site_review_count  room_count  \\\n",
       "0               0.419535           0.314092           2.874234   -0.020211   \n",
       "1               1.261818          -1.124558          -0.626256    0.082100   \n",
       "2              -2.107315          -1.124558          -0.892116   -0.224834   \n",
       "5               0.251078           1.033417          -0.271776   -0.224834   \n",
       "8              -1.265031          -0.405233          -0.936426   -1.554878   \n",
       "...                  ...                ...                ...         ...   \n",
       "3984            0.756448          -1.124558           0.437184   -0.941011   \n",
       "3988           -0.422748          -1.124558          -0.847806    0.286722   \n",
       "3989            1.598732           1.033417           1.146144    1.923700   \n",
       "3990           -1.265031          -1.124558          -0.892116   -1.145634   \n",
       "3999            0.924905           0.314092          -0.892116   -0.941011   \n",
       "\n",
       "      property_type_Beach Hut  property_type_BnB  property_type_Bungalow  \\\n",
       "0                       False              False                   False   \n",
       "1                       False              False                   False   \n",
       "2                       False              False                   False   \n",
       "5                       False              False                   False   \n",
       "8                       False              False                   False   \n",
       "...                       ...                ...                     ...   \n",
       "3984                    False              False                   False   \n",
       "3988                    False              False                   False   \n",
       "3989                    False              False                   False   \n",
       "3990                    False              False                   False   \n",
       "3999                    False              False                   False   \n",
       "\n",
       "      property_type_Cottage  property_type_Guest House  \\\n",
       "0                     False                      False   \n",
       "1                     False                       True   \n",
       "2                     False                      False   \n",
       "5                     False                      False   \n",
       "8                     False                      False   \n",
       "...                     ...                        ...   \n",
       "3984                  False                      False   \n",
       "3988                  False                      False   \n",
       "3989                  False                      False   \n",
       "3990                  False                       True   \n",
       "3999                  False                      False   \n",
       "\n",
       "      property_type_Homestay  property_type_Hostel  property_type_Hotel  \\\n",
       "0                      False                 False                False   \n",
       "1                      False                 False                False   \n",
       "2                      False                 False                False   \n",
       "5                      False                 False                False   \n",
       "8                       True                 False                False   \n",
       "...                      ...                   ...                  ...   \n",
       "3984                   False                 False                 True   \n",
       "3988                   False                 False                 True   \n",
       "3989                   False                 False                 True   \n",
       "3990                   False                 False                False   \n",
       "3999                   False                 False                 True   \n",
       "\n",
       "      property_type_Houseboat  property_type_Lodge  property_type_Motel  \\\n",
       "0                       False                False                False   \n",
       "1                       False                False                False   \n",
       "2                       False                False                False   \n",
       "5                       False                False                False   \n",
       "8                       False                False                False   \n",
       "...                       ...                  ...                  ...   \n",
       "3984                    False                False                False   \n",
       "3988                    False                False                False   \n",
       "3989                    False                False                False   \n",
       "3990                    False                False                False   \n",
       "3999                    False                False                False   \n",
       "\n",
       "      property_type_Palace  property_type_Resort  \\\n",
       "0                    False                  True   \n",
       "1                    False                 False   \n",
       "2                    False                  True   \n",
       "5                    False                  True   \n",
       "8                    False                 False   \n",
       "...                    ...                   ...   \n",
       "3984                 False                 False   \n",
       "3988                 False                 False   \n",
       "3989                 False                 False   \n",
       "3990                 False                 False   \n",
       "3999                 False                 False   \n",
       "\n",
       "      property_type_Service Apartment  property_type_Tent  property_type_Villa  \n",
       "0                               False               False                False  \n",
       "1                               False               False                False  \n",
       "2                               False               False                False  \n",
       "5                               False               False                False  \n",
       "8                               False               False                False  \n",
       "...                               ...                 ...                  ...  \n",
       "3984                            False               False                False  \n",
       "3988                            False               False                False  \n",
       "3989                            False               False                False  \n",
       "3990                            False               False                False  \n",
       "3999                            False               False                False  \n",
       "\n",
       "[1468 rows x 20 columns]"
      ]
     },
     "execution_count": 360,
     "metadata": {},
     "output_type": "execute_result"
    }
   ],
   "source": [
    "df_onehot = pd.get_dummies(df_std_scaled, columns=['property_type'])\n",
    "df_onehot"
   ]
  },
  {
   "cell_type": "code",
   "execution_count": 361,
   "id": "2ae1ff46-1380-44fb-b471-a88206a8dd27",
   "metadata": {},
   "outputs": [
    {
     "name": "stdout",
     "output_type": "stream",
     "text": [
      "Model Evaluation Results:\n",
      "Mean Absolute Error (MAE): 0.8057\n",
      "Mean Squared Error (MSE): 1.0567\n",
      "R-squared (R²): -0.1277\n"
     ]
    }
   ],
   "source": [
    "from sklearn.model_selection import train_test_split\n",
    "from sklearn.ensemble import RandomForestRegressor\n",
    "from sklearn.metrics import mean_absolute_error, mean_squared_error, r2_score\n",
    "\n",
    "y = df_onehot['site_review_rating']\n",
    "# Features (X) are all columns except the target\n",
    "X = df_onehot.drop('site_review_rating', axis=1)\n",
    "X_train, X_test, y_train, y_test = train_test_split(X, y, test_size=0.2, random_state=42)\n",
    "\n",
    "model = RandomForestRegressor(n_estimators=100, random_state=42)\n",
    "model.fit(X_train, y_train)\n",
    "\n",
    "# 5. Make predictions on the test data\n",
    "y_pred = model.predict(X_test)\n",
    "\n",
    "# 6. Evaluate the model's performance\n",
    "mae = mean_absolute_error(y_test, y_pred)\n",
    "mse = mean_squared_error(y_test, y_pred)\n",
    "r2 = r2_score(y_test, y_pred)\n",
    "\n",
    "print(\"Model Evaluation Results:\")\n",
    "print(f\"Mean Absolute Error (MAE): {mae:.4f}\")\n",
    "print(f\"Mean Squared Error (MSE): {mse:.4f}\")\n",
    "print(f\"R-squared (R²): {r2:.4f}\")"
   ]
  },
  {
   "cell_type": "code",
   "execution_count": null,
   "id": "213a5835-11f9-4871-9ac7-87588e6ae973",
   "metadata": {},
   "outputs": [],
   "source": []
  },
  {
   "cell_type": "code",
   "execution_count": null,
   "id": "31e572ef-90f0-4793-830e-d5d5e1e28162",
   "metadata": {},
   "outputs": [],
   "source": []
  },
  {
   "cell_type": "code",
   "execution_count": null,
   "id": "4cdcdb6a-684f-4d84-9bce-bc3d894182b2",
   "metadata": {},
   "outputs": [],
   "source": []
  },
  {
   "cell_type": "code",
   "execution_count": null,
   "id": "c9a5ad20-4b3a-4d25-9222-02de8630c551",
   "metadata": {},
   "outputs": [],
   "source": []
  },
  {
   "cell_type": "code",
   "execution_count": null,
   "id": "62b4f0d8-a864-4c17-927f-8c18b2f84e91",
   "metadata": {},
   "outputs": [],
   "source": []
  },
  {
   "cell_type": "code",
   "execution_count": null,
   "id": "d0ff3c05-5bdd-44ff-92a6-4940e9d94512",
   "metadata": {},
   "outputs": [],
   "source": []
  },
  {
   "cell_type": "code",
   "execution_count": null,
   "id": "610caed7-f041-4d7f-9873-b086527ca634",
   "metadata": {},
   "outputs": [],
   "source": []
  },
  {
   "cell_type": "code",
   "execution_count": null,
   "id": "dac5dce7-a063-4921-aa35-4b8480a96fda",
   "metadata": {},
   "outputs": [],
   "source": []
  },
  {
   "cell_type": "code",
   "execution_count": null,
   "id": "82611450-b440-4408-910c-b8cf33a6e485",
   "metadata": {},
   "outputs": [],
   "source": []
  },
  {
   "cell_type": "code",
   "execution_count": null,
   "id": "56e9a3ee-8c15-4c8b-ba1b-de753f278d59",
   "metadata": {},
   "outputs": [],
   "source": []
  },
  {
   "cell_type": "code",
   "execution_count": null,
   "id": "0ebbc7d3-c770-48f8-b45f-d2476e247c17",
   "metadata": {},
   "outputs": [],
   "source": []
  },
  {
   "cell_type": "code",
   "execution_count": null,
   "id": "61a9e68c-e822-4250-8992-2be322ac9f55",
   "metadata": {},
   "outputs": [],
   "source": []
  },
  {
   "cell_type": "code",
   "execution_count": null,
   "id": "b8bfd1de-57c2-4828-b62d-1bf1da002142",
   "metadata": {},
   "outputs": [],
   "source": []
  },
  {
   "cell_type": "code",
   "execution_count": null,
   "id": "9a7cadfc-e68d-4646-94a6-184c78b387b1",
   "metadata": {},
   "outputs": [],
   "source": []
  },
  {
   "cell_type": "code",
   "execution_count": null,
   "id": "517c0695-25dc-459e-9fa2-15d973ffd1c7",
   "metadata": {},
   "outputs": [],
   "source": []
  },
  {
   "cell_type": "code",
   "execution_count": null,
   "id": "78764c91-54ae-4f1c-865a-ea0fae917ce1",
   "metadata": {},
   "outputs": [],
   "source": []
  },
  {
   "cell_type": "code",
   "execution_count": null,
   "id": "cfb07917-9222-462d-a34b-daa52209dd4c",
   "metadata": {},
   "outputs": [],
   "source": []
  },
  {
   "cell_type": "code",
   "execution_count": null,
   "id": "22c57a51-d43c-4fde-b228-f6b0b60fa387",
   "metadata": {},
   "outputs": [],
   "source": []
  },
  {
   "cell_type": "code",
   "execution_count": null,
   "id": "0d7a947c-118f-44da-81b8-7999cada1298",
   "metadata": {},
   "outputs": [],
   "source": []
  },
  {
   "cell_type": "code",
   "execution_count": null,
   "id": "4edeeb70-8496-43ec-9c65-af117abeb2fc",
   "metadata": {},
   "outputs": [],
   "source": []
  },
  {
   "cell_type": "code",
   "execution_count": null,
   "id": "60795920-9af0-4adf-ac4c-de8512ce4ade",
   "metadata": {},
   "outputs": [],
   "source": []
  },
  {
   "cell_type": "code",
   "execution_count": null,
   "id": "03b67e48-ab2c-4116-a2e7-57a6aa877b38",
   "metadata": {},
   "outputs": [],
   "source": []
  },
  {
   "cell_type": "code",
   "execution_count": null,
   "id": "b6348c1e-4751-4624-8ae2-6de5f1592773",
   "metadata": {},
   "outputs": [],
   "source": []
  },
  {
   "cell_type": "code",
   "execution_count": null,
   "id": "73c2e4b9-2572-4240-9f72-a4ffca096387",
   "metadata": {},
   "outputs": [],
   "source": []
  },
  {
   "cell_type": "code",
   "execution_count": null,
   "id": "6f951559-73f7-42a3-a83e-05c79f20bb7d",
   "metadata": {},
   "outputs": [],
   "source": []
  },
  {
   "cell_type": "code",
   "execution_count": null,
   "id": "4acc1664-d21d-49aa-a1ab-b6851f22451c",
   "metadata": {},
   "outputs": [],
   "source": []
  },
  {
   "cell_type": "code",
   "execution_count": null,
   "id": "eef283f0-17d5-487e-9778-cefe77b06a48",
   "metadata": {},
   "outputs": [],
   "source": []
  },
  {
   "cell_type": "code",
   "execution_count": null,
   "id": "bc7ac7ab-17a8-49d2-b1ad-ef7388185fb9",
   "metadata": {},
   "outputs": [],
   "source": []
  },
  {
   "cell_type": "code",
   "execution_count": null,
   "id": "07aad0aa-a9eb-40fe-8a50-0656b824c366",
   "metadata": {},
   "outputs": [],
   "source": []
  },
  {
   "cell_type": "code",
   "execution_count": null,
   "id": "66f54176-66e7-44af-a729-54b5c9295c49",
   "metadata": {},
   "outputs": [],
   "source": []
  },
  {
   "cell_type": "code",
   "execution_count": null,
   "id": "3ee52ac1-db5a-499d-9f08-cc15e5e04caa",
   "metadata": {},
   "outputs": [],
   "source": []
  },
  {
   "cell_type": "code",
   "execution_count": null,
   "id": "52cbb8ab-982d-4171-b794-e1bb1d4a1a28",
   "metadata": {},
   "outputs": [],
   "source": []
  },
  {
   "cell_type": "code",
   "execution_count": null,
   "id": "b22115d2-e2ae-477a-b87e-a153e7abd6e2",
   "metadata": {},
   "outputs": [],
   "source": []
  },
  {
   "cell_type": "code",
   "execution_count": null,
   "id": "935ea7bb-db1e-4e17-87f6-8783c3b09468",
   "metadata": {},
   "outputs": [],
   "source": []
  },
  {
   "cell_type": "code",
   "execution_count": null,
   "id": "935242b7-dcab-4776-8cf1-1f07181b7243",
   "metadata": {},
   "outputs": [],
   "source": []
  },
  {
   "cell_type": "code",
   "execution_count": null,
   "id": "9522e2d6-1393-447f-b36b-2a677e1a4cba",
   "metadata": {},
   "outputs": [],
   "source": []
  },
  {
   "cell_type": "code",
   "execution_count": null,
   "id": "96fc9d82-fe57-4ad1-9a94-e3f584ab1e30",
   "metadata": {},
   "outputs": [],
   "source": []
  },
  {
   "cell_type": "code",
   "execution_count": null,
   "id": "cf26ab86-033a-4896-b103-249056da1c5c",
   "metadata": {},
   "outputs": [],
   "source": []
  },
  {
   "cell_type": "code",
   "execution_count": null,
   "id": "dc0410b4-e754-40ae-b4a3-a494d2ba4b7a",
   "metadata": {},
   "outputs": [],
   "source": []
  },
  {
   "cell_type": "code",
   "execution_count": null,
   "id": "3614141c-e143-4f5f-ab9c-e9fa26ddee20",
   "metadata": {},
   "outputs": [],
   "source": []
  },
  {
   "cell_type": "code",
   "execution_count": null,
   "id": "b2244227-0de9-434c-b233-1756a639bad6",
   "metadata": {},
   "outputs": [],
   "source": []
  },
  {
   "cell_type": "code",
   "execution_count": null,
   "id": "05121394-0d49-4a6e-8cc7-f0630c0b9a20",
   "metadata": {},
   "outputs": [],
   "source": []
  },
  {
   "cell_type": "code",
   "execution_count": null,
   "id": "31ba13e8-aed7-424d-a4da-1e4405270218",
   "metadata": {},
   "outputs": [],
   "source": []
  },
  {
   "cell_type": "code",
   "execution_count": null,
   "id": "8e1db3bf-759d-47d8-9f4a-865f4046e7dc",
   "metadata": {},
   "outputs": [],
   "source": []
  },
  {
   "cell_type": "code",
   "execution_count": null,
   "id": "7f2e7713-7bbe-4e74-b1d2-a325b8036324",
   "metadata": {},
   "outputs": [],
   "source": []
  },
  {
   "cell_type": "code",
   "execution_count": null,
   "id": "29370cfc-2a30-4254-a8ce-1cd49c0a1185",
   "metadata": {},
   "outputs": [],
   "source": []
  },
  {
   "cell_type": "code",
   "execution_count": 357,
   "id": "c539428f-df6b-46e1-b279-1926598f891d",
   "metadata": {},
   "outputs": [],
   "source": [
    "from sklearn.linear_model import LinearRegression\n",
    "from sklearn.model_selection import train_test_split"
   ]
  },
  {
   "cell_type": "code",
   "execution_count": 352,
   "id": "fd230ff9-a112-428d-bccf-3ccfca079464",
   "metadata": {},
   "outputs": [],
   "source": [
    "X = df_std_scaled.drop([\"site_review_rating\", \"property_type\"], axis=1)\n",
    "y = df_std_scaled[\"site_review_rating\"]\n",
    "X_train, X_test, y_train, y_test = train_test_split(X, y, test_size=0.2, random_state=42)"
   ]
  },
  {
   "cell_type": "code",
   "execution_count": 353,
   "id": "1c9c97cb-74bb-43e1-8c7a-d95a4b5c55b8",
   "metadata": {},
   "outputs": [
    {
     "data": {
      "text/plain": [
       "0.05272004538187214"
      ]
     },
     "execution_count": 353,
     "metadata": {},
     "output_type": "execute_result"
    }
   ],
   "source": [
    "model = LinearRegression()\n",
    "model.fit(X_train, y_train)\n",
    "model.score(X_test, y_test)"
   ]
  },
  {
   "cell_type": "code",
   "execution_count": 354,
   "id": "18799800-4adb-4dde-a6de-dc57c79dc9fb",
   "metadata": {},
   "outputs": [],
   "source": [
    "from sklearn.metrics import mean_absolute_error, mean_squared_error, r2_score\n",
    "import numpy as np\n",
    "\n",
    "def evaluate_regression_model(y_true, y_pred):\n",
    "    mae = mean_absolute_error(y_true, y_pred)\n",
    "    mse = mean_squared_error(y_true, y_pred)\n",
    "    rmse = np.sqrt(mse)\n",
    "    r2 = r2_score(y_true, y_pred)\n",
    "\n",
    "    print(\"📊 Regression Evaluation Metrics\")\n",
    "    print(f\"MAE  (Mean Absolute Error):      {mae:.4f}\")\n",
    "    print(f\"MSE  (Mean Squared Error):       {mse:.4f}\")\n",
    "    print(f\"RMSE (Root Mean Squared Error):  {rmse:.4f}\")\n",
    "    print(f\"R²   (R-squared Score):          {r2:.4f}\")\n",
    "    \n",
    "    return {\"MAE\": mae, \"MSE\": mse, \"RMSE\": rmse, \"R2\": r2}\n"
   ]
  },
  {
   "cell_type": "code",
   "execution_count": 355,
   "id": "5b36fd3f-78b6-49a9-bd9a-40d5d545d6dd",
   "metadata": {},
   "outputs": [
    {
     "name": "stdout",
     "output_type": "stream",
     "text": [
      "📊 Regression Evaluation Metrics\n",
      "MAE  (Mean Absolute Error):      0.7624\n",
      "MSE  (Mean Squared Error):       0.8877\n",
      "RMSE (Root Mean Squared Error):  0.9422\n",
      "R²   (R-squared Score):          0.0527\n"
     ]
    }
   ],
   "source": [
    "# Misalnya kamu sudah punya y_test dan y_pred hasil dari model.predict()\n",
    "y_pred = model.predict(X_test)\n",
    "\n",
    "# Evaluasi\n",
    "metrics_result = evaluate_regression_model(y_test, y_pred)\n"
   ]
  },
  {
   "cell_type": "code",
   "execution_count": null,
   "id": "8c5724ea-6fa8-4878-a275-e090abdcba6e",
   "metadata": {},
   "outputs": [],
   "source": []
  }
 ],
 "metadata": {
  "kernelspec": {
   "display_name": "Python 3 (ipykernel)",
   "language": "python",
   "name": "python3"
  },
  "language_info": {
   "codemirror_mode": {
    "name": "ipython",
    "version": 3
   },
   "file_extension": ".py",
   "mimetype": "text/x-python",
   "name": "python",
   "nbconvert_exporter": "python",
   "pygments_lexer": "ipython3",
   "version": "3.10.18"
  },
  "widgets": {
   "application/vnd.jupyter.widget-state+json": {
    "state": {},
    "version_major": 2,
    "version_minor": 0
   }
  }
 },
 "nbformat": 4,
 "nbformat_minor": 5
}
